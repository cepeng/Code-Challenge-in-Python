{
 "cells": [
  {
   "cell_type": "code",
   "execution_count": 32,
   "metadata": {},
   "outputs": [],
   "source": [
    "###############################################################################################\n",
    "#\n",
    "#            The solution for Backend Intern Challenge - Summer 2018\n",
    "# \n",
    "#       Coded by Ce Peng (Ben)    Address: 921 Greenbriar Ave, Ottawa, ON \n",
    "#\n",
    "#               Cell: (613)-710-6281        Email:epengc@icloud.com\n",
    "#\n",
    "###############################################################################################"
   ]
  },
  {
   "cell_type": "code",
   "execution_count": 33,
   "metadata": {},
   "outputs": [],
   "source": [
    "# Import the module of Python\n",
    "import json,requests,math"
   ]
  },
  {
   "cell_type": "code",
   "execution_count": 34,
   "metadata": {},
   "outputs": [],
   "source": [
    "#-------------------------Function definition-------------------------------------------\n",
    "#  Function Name:      [api_data] = api_read(id_n)\n",
    "#\n",
    "#  Output: api_data    is the data online read by API\n",
    "#  Input : id_n        id_n = 1 is the Basic Challenge data\n",
    "#                      id_n = 2 is the Extra Challenge data\n",
    "#\n",
    "#  Usage:        Read data from API with address:\n",
    "#           \"https://backend-challenge-summer-2018.herokuapp.com/challenges.json?id=?&page=?\"\n",
    "#---------------------------------------------------------------------------------------\n",
    "def api_read(id_n):\n",
    "    address_prefix = \"https://backend-challenge-summer-2018.herokuapp.com/challenges.json?id=\"+str(id_n)+\"&page=\"\n",
    "    api_response = requests.get(address_prefix+str(1))\n",
    "    api_response.json()\n",
    "    api_response_data = json.loads(api_response.text)\n",
    "    # Determine how many pages data we have\n",
    "    total_page = api_response_data['pagination']['total']\n",
    "    per_page = api_response_data['pagination']['per_page']\n",
    "    cur_page = api_response_data['pagination']['current_page']\n",
    "    sum_page = math.ceil(total_page/per_page)\n",
    "    # Read all data in one time\n",
    "    # Initialize variables\n",
    "    api_response = []\n",
    "    api_menus_data = []\n",
    "    api_response_data = {}\n",
    "    # Read all menus data into api_menus_data\n",
    "    for i in range(sum_page):\n",
    "        address = address_prefix + str(i+1)\n",
    "        api_response = requests.get(address)\n",
    "        api_response.json()\n",
    "        api_response_data = json.loads(api_response.text)\n",
    "        for j in api_response_data['menus']:\n",
    "            api_menus_data.append(j)\n",
    "    return api_menus_data"
   ]
  },
  {
   "cell_type": "code",
   "execution_count": 35,
   "metadata": {},
   "outputs": [],
   "source": [
    "#-------------------------Function definition-------------------------------------------\n",
    "#  Function Name:   depth_tree(tree_node,trees,root_id)\n",
    "#\n",
    "#  Input: tree_node     the entries within api_menus_data\n",
    "#         trees         api_menus_data\n",
    "#         root_id       the id of a tree root\n",
    "#\n",
    "#  Usage: This is a recursive function which gets a pre-order travel of the tree \n",
    "#         with each root_id. The path of each travel is transfered by a global variable \n",
    "#         tree_path in form like:\n",
    "#                        [[1,3,7,15,1],[2,4,5,6,8],...]\n",
    "#---------------------------------------------------------------------------------------\n",
    "def depth_tree(tree_node,trees,root_id):\n",
    "    global tree_path\n",
    "    tree_path.append(tree_node['id'])\n",
    "    #print(tree_node['id'])\n",
    "    if tree_node and not (root_id in tree_node['child_ids']):\n",
    "        for i in tree_node['child_ids']:\n",
    "            depth_tree(trees[i-1],trees,root_id)  "
   ]
  },
  {
   "cell_type": "code",
   "execution_count": 36,
   "metadata": {},
   "outputs": [],
   "source": [
    "#-------------------------Function definition-------------------------------------------\n",
    "#  Function Name:       node_check(node_idx,path,trees,drawback_idx)\n",
    "#\n",
    "#  Input: node_idx      The endpoint index of a path\n",
    "#         path          One of a path within Paths\n",
    "#         trees         The sum of the tree_node\n",
    "#         drawback_idx  the drawback point index before the node_idx\n",
    "#\n",
    "#  Usage: This is a recursive function which checks the redundancy nodes on a path of a tree\n",
    "#---------------------------------------------------------------------------------------\n",
    "def node_check(node_idx,path,trees,drawback_idx):\n",
    "    global checked_path\n",
    "    global checked_node_idx\n",
    "    checked_path = path\n",
    "    if trees[path[drawback_idx]-1]['id']!=trees[path[node_idx]-1]['parent_id'] and node_idx > 1:\n",
    "        del path[drawback_idx]\n",
    "        drawback_idx = drawback_idx -1\n",
    "        node_idx = node_idx -1\n",
    "        checked_path = path\n",
    "        checked_node_idx = checked_node_idx -1\n",
    "        node_check(node_idx,path,trees,drawback_idx)\n",
    "    if node_idx > 1:\n",
    "        node_idx = node_idx -1\n",
    "        drawback_idx = node_idx-1\n",
    "        node_check(node_idx,path,trees,drawback_idx)"
   ]
  },
  {
   "cell_type": "code",
   "execution_count": 37,
   "metadata": {},
   "outputs": [
    {
     "name": "stdout",
     "output_type": "stream",
     "text": [
      "[{'id': 1, 'data': 'House', 'child_ids': [3, 4]}, {'id': 2, 'data': 'Company', 'child_ids': [8, 9, 11]}, {'id': 3, 'data': 'Kitchen', 'parent_id': 1, 'child_ids': [5, 18]}, {'id': 4, 'data': 'Living Room', 'parent_id': 1, 'child_ids': [6, 7, 19]}, {'id': 5, 'data': 'Sink', 'parent_id': 3, 'child_ids': []}, {'id': 6, 'data': 'TV', 'parent_id': 4, 'child_ids': []}, {'id': 7, 'data': 'Chair', 'parent_id': 4, 'child_ids': [20]}, {'id': 8, 'data': 'Meeting Rooms', 'parent_id': 2, 'child_ids': []}, {'id': 9, 'data': 'Kitchen', 'parent_id': 2, 'child_ids': [10]}, {'id': 10, 'data': 'Oven', 'parent_id': 9, 'child_ids': []}, {'id': 11, 'data': 'HR', 'parent_id': 2, 'child_ids': []}, {'id': 12, 'data': 'Computer', 'child_ids': [13, 14, 15]}, {'id': 13, 'data': 'CPU', 'parent_id': 12, 'child_ids': []}, {'id': 14, 'data': 'Motherboard', 'parent_id': 12, 'child_ids': []}, {'id': 15, 'data': 'Peripherals', 'parent_id': 12, 'child_ids': [16, 17, 21]}, {'id': 16, 'data': 'Mouse', 'parent_id': 15, 'child_ids': []}, {'id': 17, 'data': 'Keyboard', 'parent_id': 15, 'child_ids': []}, {'id': 18, 'data': 'Chair', 'parent_id': 3, 'child_ids': []}, {'id': 19, 'data': 'Table', 'parent_id': 4, 'child_ids': []}, {'id': 20, 'data': 'Pad', 'parent_id': 7, 'child_ids': [1]}, {'id': 21, 'data': 'Headphones', 'parent_id': 15, 'child_ids': []}]\n"
     ]
    }
   ],
   "source": [
    "#------------------------------Main Procedure-----------------------------------#\n",
    "api_menus_data = api_read(id_n=2) # id_n = 1 means besic challenge data; id_n = 2 means extra challenge data\n",
    "print(api_menus_data) # To show the data which we have read\n",
    "trees = api_menus_data # Change api_menus_data into a short name to remember easily"
   ]
  },
  {
   "cell_type": "code",
   "execution_count": 38,
   "metadata": {},
   "outputs": [
    {
     "name": "stdout",
     "output_type": "stream",
     "text": [
      "[[1, 3, 5, 18, 4, 6, 7, 20, 19], [2, 8, 9, 10, 11], [12, 13, 14, 15, 16, 17, 21]]\n"
     ]
    }
   ],
   "source": [
    "# Using a for loop to look for the root of the tree in trees\n",
    "paths = [] # All paths of tree_path\n",
    "for tree_node in trees:\n",
    "    if not('parent_id' in tree_node):\n",
    "        tree_path = []# Define a global variable to transfer the data of valid or invalid menus\n",
    "        depth_tree(tree_node,trees,tree_node['id'])\n",
    "        paths.append(tree_path)\n",
    "print(paths) # To show how many paths we have from each root_id in preorder "
   ]
  },
  {
   "cell_type": "code",
   "execution_count": 39,
   "metadata": {},
   "outputs": [],
   "source": [
    "# Read the paths and decode it into valid and invalid \n",
    "output = {\"valid_menus\":[],\"invalid_menus\":[]} # Initalize output variable\n",
    "for path in paths:\n",
    "    #print(path)\n",
    "    path_cp = path\n",
    "    i_path = 0\n",
    "    trigger = 0\n",
    "    menus_cell = {}\n",
    "    while trigger == 0:\n",
    "        if trees[path_cp[0]-1]['id'] in trees[path_cp[i_path]-1]['child_ids']: # Invaliad menus conditions\n",
    "            checked_path = []\n",
    "            checked_node_idx = i_path\n",
    "            node_check(i_path,path_cp,trees,i_path-1)\n",
    "            path_cp = checked_path\n",
    "            i_path = checked_node_idx\n",
    "            #print(path_cp)\n",
    "            output['invalid_menus'].append({'root_id':trees[path_cp[0]-1]['id'],'children':path_cp[0:i_path+1]})\n",
    "            del path_cp[i_path]\n",
    "            i_path = i_path - 1\n",
    "        if trees[path_cp[i_path]-1]['child_ids'] == []: # Valid menus conditions\n",
    "            checked_path = []\n",
    "            checked_node_idx = i_path\n",
    "            node_check(i_path,path_cp,trees,i_path-1)\n",
    "            path_cp = checked_path\n",
    "            i_path = checked_node_idx\n",
    "            #print('i_path=',i_path)\n",
    "            #print('path_cp=',path_cp)\n",
    "            output['valid_menus'].append({'root_id':trees[path_cp[0]-1]['id'],'children':path_cp[1:i_path+1]})\n",
    "            del path_cp[i_path]\n",
    "            i_path = i_path - 1\n",
    "        i_path = i_path + 1\n",
    "        if i_path >= len(path_cp):\n",
    "            trigger = 1 "
   ]
  },
  {
   "cell_type": "code",
   "execution_count": 40,
   "metadata": {},
   "outputs": [
    {
     "name": "stdout",
     "output_type": "stream",
     "text": [
      "{'valid_menus': [{'root_id': 1, 'children': [3, 5]}, {'root_id': 1, 'children': [3, 18]}, {'root_id': 1, 'children': [4, 6]}, {'root_id': 1, 'children': [4, 19]}, {'root_id': 2, 'children': [8]}, {'root_id': 2, 'children': [9, 10]}, {'root_id': 2, 'children': [11]}, {'root_id': 12, 'children': [13]}, {'root_id': 12, 'children': [14]}, {'root_id': 12, 'children': [15, 16]}, {'root_id': 12, 'children': [15, 17]}, {'root_id': 12, 'children': [15, 21]}], 'invalid_menus': [{'root_id': 1, 'children': [1, 4, 7, 20]}]}\n"
     ]
    }
   ],
   "source": [
    "print(output)"
   ]
  }
 ],
 "metadata": {
  "kernelspec": {
   "display_name": "Python 3",
   "language": "python",
   "name": "python3"
  },
  "language_info": {
   "codemirror_mode": {
    "name": "ipython",
    "version": 3
   },
   "file_extension": ".py",
   "mimetype": "text/x-python",
   "name": "python",
   "nbconvert_exporter": "python",
   "pygments_lexer": "ipython3",
   "version": "3.6.4"
  }
 },
 "nbformat": 4,
 "nbformat_minor": 2
}
